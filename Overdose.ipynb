{
 "cells": [
  {
   "cell_type": "markdown",
   "metadata": {},
   "source": [
    "\n",
    "# Big Ideas Final Project\n",
    "## Metric: Overdose Deaths\n",
    "### Lukas Finn"
   ]
  },
  {
   "cell_type": "markdown",
   "metadata": {},
   "source": [
    "For my analysis of what neighborhood is the best to live in I chose the metric to be the least amount of overdose deaths."
   ]
  },
  {
   "cell_type": "markdown",
   "metadata": {},
   "source": [
    "\n",
    "Some basic statistics from the data."
   ]
  },
  {
   "cell_type": "code",
   "execution_count": 27,
   "metadata": {},
   "outputs": [
    {
     "name": "stdout",
     "output_type": "stream",
     "text": [
      "Number of cases: 5832\n",
      "\n",
      "Average age of victim: 41.818930041152264\n",
      "\n",
      "Number of male (M) and female (F) victims:\n",
      "M    4004\n",
      "F    1827\n",
      "Name: sex, dtype: int64\n"
     ]
    }
   ],
   "source": [
    "import pandas as pd\n",
    "import geopandas as gp\n",
    "%matplotlib inline\n",
    "\n",
    "dose = pd.read_csv(\"overdosedata.tsv\",sep='\\t')\n",
    "\n",
    "casecount = len(dose)\n",
    "\n",
    "aveage = dose['age'].mean()\n",
    "\n",
    "se = dose['sex'].value_counts()\n",
    "\n",
    "zipcount = dict()\n",
    "for line in dose:\n",
    "    zipcol = dose['incident_zip']\n",
    "    for item in zipcol:\n",
    "        if item in zipcount:\n",
    "            zipcount[item] += 1\n",
    "        else:\n",
    "            zipcount[item] = 1\n",
    "for zipcode, value in zipcount.items():\n",
    "    zipcount[zipcode] = int(value/19)\n",
    "\n",
    "print('Number of cases:',casecount)\n",
    "print('\\n''Average age of victim:',aveage)\n",
    "print('\\n''Number of male (M) and female (F) victims:')\n",
    "print(se)"
   ]
  },
  {
   "cell_type": "code",
   "execution_count": 31,
   "metadata": {},
   "outputs": [
    {
     "name": "stdout",
     "output_type": "stream",
     "text": [
      "{'Chateau': 14, 'Manchester': 14, 'Friendship': 15, 'Central Business District': 36, 'Strip District': 36, 'Squirrel Hill North': 39, 'Squirrel Hill South': 39, 'Central Oakland': 44, 'North Oakland': 44, 'South Oakland': 44, 'West Oakland': 44, 'Regent Square': 47, 'Swisshelm Park': 47, 'North Point Breeze': 57, 'Elliott': 60, 'West End': 60, 'Chartiers': 64, 'Esplen': 64, 'Sheraden': 64, 'Windgap': 64, 'Bloomfield': 66, 'Garfield': 66, 'Perry South': 72, 'Summer Hill': 72, 'South Side Flats': 76, 'Hazelwood': 78, 'Lincoln Place': 78, 'New Homestead': 78, 'Central Lawrenceville': 81, 'Lower Lawrenceville': 81, 'Upper Lawrenceville': 81, 'Point Breeze': 96, 'Duquesne Heights': 103, 'Mount Washington': 103, 'Brookline': 106, 'Bedford Dwellings': 114, 'Bluff': 114, 'Crawford-Roberts': 114, 'Middle Hill': 114, 'Polish Hill': 114, 'Southshore': 114, 'Terrace Village': 114, 'Upper Hill': 114, 'Glen Hazel': 117, 'Greenfield': 117, 'Crafton Heights': 120, 'Fairywood': 120, 'Oakwood': 120, 'East Carnegie': 132, 'East Liberty': 132, 'Highland Park': 132, 'Larimer': 132, 'East Hills': 141, 'Beechview': 154, 'Westwood': 180, 'Homewood West': 189, 'Shadyside': 191, 'Homewood North': 198, 'Homewood South': 198, 'Morningside': 213, 'Stanton Heights': 213, 'Banksville': 214, 'Ridgemont': 214, 'Allegheny Center': 237, 'Brighton Heights': 237, 'Central Northside': 237, 'East Allegheny': 237, 'North Shore': 237, 'Spring Garden': 237, 'Spring Hill–City View': 237, 'Troy Hill': 237, 'Allegheny West': 251, 'California-Kirkbride': 251, 'Lincoln–Lemington–Belmar': 271, 'Allentown': 295, 'Arlington': 295, 'Arlington Heights': 295, 'Beltzhoove': 295, 'Knoxville': 295, 'Mount Oliver': 295, 'Saint Clair': 295, 'Fineview': 309, 'Marshall-Shadeland': 309, 'Northview Heights': 309, 'Perry North': 309, 'Hays': 324, 'South Side Slopes': 371, 'Bon Air': 401, 'Carrick': 441, 'Overbrook': 499}\n"
     ]
    }
   ],
   "source": [
    "neighborhoodscount = dict()\n",
    "\n",
    "neighborhoodscount['Allegheny Center']= zipcount['15212']\n",
    "neighborhoodscount['Allegheny West']= zipcount['15233'] + zipcount['15212']\n",
    "neighborhoodscount['Allentown']= zipcount['15210']\n",
    "neighborhoodscount['Arlington']= zipcount['15210']\n",
    "neighborhoodscount['Arlington Heights']= zipcount['15210']\n",
    "neighborhoodscount['Banksville']= zipcount['15220'] + zipcount['15216']\n",
    "neighborhoodscount['Bedford Dwellings']= zipcount['15219']\n",
    "neighborhoodscount['Beechview']= zipcount['15216']\n",
    "neighborhoodscount['Beltzhoove']= zipcount['15210']\n",
    "neighborhoodscount['Bloomfield']= zipcount['15224']\n",
    "neighborhoodscount['Bluff']= zipcount['15219']\n",
    "neighborhoodscount['Bon Air']= zipcount['15226'] + zipcount['15210']\n",
    "neighborhoodscount['Brighton Heights']= zipcount['15212']\n",
    "neighborhoodscount['Brookline']=  zipcount['15226']\n",
    "neighborhoodscount['California-Kirkbride']= zipcount['15212'] +  zipcount['15233']\n",
    "neighborhoodscount['Carrick']= zipcount['15210'] +  zipcount['15227']\n",
    "neighborhoodscount['Central Business District']=  zipcount['15222']\n",
    "neighborhoodscount['Central Lawrenceville']= zipcount['15201']\n",
    "neighborhoodscount['Central Northside']= zipcount['15212']\n",
    "neighborhoodscount['Central Oakland']= zipcount['15213']\n",
    "neighborhoodscount['Chartiers']= zipcount['15204']\n",
    "neighborhoodscount['Chateau']= zipcount['15233']\n",
    "neighborhoodscount['Crafton Heights']= zipcount['15205']\n",
    "neighborhoodscount['Crawford-Roberts']= zipcount['15219']\n",
    "neighborhoodscount['Duquesne Heights']= zipcount['15211']\n",
    "neighborhoodscount['East Allegheny']= zipcount['15212']\n",
    "neighborhoodscount['East Carnegie']= zipcount['15206']\n",
    "neighborhoodscount['East Hills']= zipcount['15221']\n",
    "neighborhoodscount['East Liberty']= zipcount['15206']\n",
    "neighborhoodscount['Elliott']= zipcount['15220']\n",
    "neighborhoodscount['Esplen']= zipcount['15204']\n",
    "neighborhoodscount['Fairywood']= zipcount['15205']\n",
    "neighborhoodscount['Fineview']= zipcount['15212'] +  zipcount['15214']\n",
    "neighborhoodscount['Friendship']= zipcount['15232']\n",
    "neighborhoodscount['Garfield']= zipcount['15224']\n",
    "neighborhoodscount['Glen Hazel']= zipcount['15207'] +  zipcount['15217']\n",
    "neighborhoodscount['Greenfield']= zipcount['15207'] +  zipcount['15217']\n",
    "neighborhoodscount['Hays']=  zipcount['15227'] + zipcount['15207'] + zipcount['15236']\n",
    "neighborhoodscount['Hazelwood']= zipcount['15207']\n",
    "neighborhoodscount['Highland Park']= zipcount['15206']\n",
    "neighborhoodscount['Homewood North']= zipcount['15221'] + zipcount['15208']\n",
    "neighborhoodscount['Homewood South']= zipcount['15221'] + zipcount['15208']\n",
    "neighborhoodscount['Homewood West']= zipcount['15206'] +  zipcount['15208']\n",
    "neighborhoodscount['Knoxville']= zipcount['15210']\n",
    "neighborhoodscount['Larimer']= zipcount['15206']\n",
    "neighborhoodscount['Lincoln–Lemington–Belmar']= zipcount['15206'] + zipcount['15147'] + zipcount['15215']\n",
    "neighborhoodscount['Lincoln Place']= zipcount['15207']\n",
    "neighborhoodscount['Lower Lawrenceville']= zipcount['15201']\n",
    "neighborhoodscount['Manchester']= zipcount['15233']\n",
    "neighborhoodscount['Marshall-Shadeland']= zipcount['15212'] + zipcount['15214']\n",
    "neighborhoodscount['Middle Hill']= zipcount['15219']\n",
    "neighborhoodscount['Morningside']= zipcount['15201'] + zipcount['15206']\n",
    "neighborhoodscount['Mount Oliver']= zipcount['15210']\n",
    "neighborhoodscount['Mount Washington']= zipcount['15211']\n",
    "neighborhoodscount['New Homestead']=  zipcount['15207']\n",
    "neighborhoodscount['North Oakland']= zipcount['15213']\n",
    "neighborhoodscount['North Point Breeze']= zipcount['15208']\n",
    "neighborhoodscount['North Shore']= zipcount['15212']\n",
    "neighborhoodscount['Northview Heights']= zipcount['15212'] +  zipcount['15214']\n",
    "neighborhoodscount['Oakwood']= zipcount['15205']\n",
    "neighborhoodscount['Overbrook']= zipcount['15227'] + zipcount['15234'] + zipcount['15210']\n",
    "neighborhoodscount['Perry North']= zipcount['15212'] + zipcount['15214']\n",
    "neighborhoodscount['Perry South']= zipcount['15214']\n",
    "neighborhoodscount['Point Breeze']= zipcount['15217'] + zipcount['15208']\n",
    "neighborhoodscount['Polish Hill']= zipcount['15219']\n",
    "neighborhoodscount['Regent Square']= zipcount['15218']\n",
    "neighborhoodscount['Ridgemont']= zipcount['15220'] + zipcount['15216']\n",
    "neighborhoodscount['Saint Clair']= zipcount['15210']\n",
    "neighborhoodscount['Shadyside']= zipcount['15206'] + zipcount['15213'] +  zipcount['15232']\n",
    "neighborhoodscount['Sheraden']=  zipcount['15204']\n",
    "neighborhoodscount['South Oakland']= zipcount['15213']\n",
    "neighborhoodscount['Southshore']= zipcount['15219']\n",
    "neighborhoodscount['South Side Flats']= zipcount['15203']\n",
    "neighborhoodscount['South Side Slopes']=  zipcount['15203'] + zipcount['15210']\n",
    "neighborhoodscount['Spring Garden']= zipcount['15212']\n",
    "neighborhoodscount['Spring Hill–City View']= zipcount['15212']\n",
    "neighborhoodscount['Squirrel Hill North']= zipcount['15217']\n",
    "neighborhoodscount['Squirrel Hill South']= zipcount['15217']\n",
    "neighborhoodscount['Stanton Heights']= zipcount['15201'] + zipcount['15206']\n",
    "neighborhoodscount['Strip District']= zipcount['15222']\n",
    "neighborhoodscount['Summer Hill']= zipcount['15214']\n",
    "neighborhoodscount['Swisshelm Park']= zipcount['15218']\n",
    "neighborhoodscount['Terrace Village']= zipcount['15219']\n",
    "neighborhoodscount['Troy Hill']= zipcount['15212']\n",
    "neighborhoodscount['Upper Hill']= zipcount['15219']\n",
    "neighborhoodscount['Upper Lawrenceville']= zipcount['15201']\n",
    "neighborhoodscount['West End']= zipcount['15220']\n",
    "neighborhoodscount['West Oakland']= zipcount['15213']\n",
    "neighborhoodscount['Westwood']= zipcount['15205'] + zipcount['15220']\n",
    "neighborhoodscount['Windgap']= zipcount['15204']\n",
    "\n",
    "hoodlist = sorted(neighborhoodscount.items(), key = lambda x:x[1])\n",
    "neighborhoodscount = dict(hoodlist)\n",
    "print(neighborhoodscount)"
   ]
  },
  {
   "cell_type": "code",
   "execution_count": null,
   "metadata": {},
   "outputs": [],
   "source": []
  }
 ],
 "metadata": {
  "kernelspec": {
   "display_name": "Python 3",
   "language": "python",
   "name": "python3"
  },
  "language_info": {
   "codemirror_mode": {
    "name": "ipython",
    "version": 3
   },
   "file_extension": ".py",
   "mimetype": "text/x-python",
   "name": "python",
   "nbconvert_exporter": "python",
   "pygments_lexer": "ipython3",
   "version": "3.8.3"
  }
 },
 "nbformat": 4,
 "nbformat_minor": 4
}
