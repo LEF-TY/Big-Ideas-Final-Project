{
 "cells": [
  {
   "cell_type": "markdown",
   "metadata": {},
   "source": [
    "\n",
    "# Big Ideas Final Project\n",
    "## Metric: Overdose Deaths\n",
    "### Lukas Finn"
   ]
  },
  {
   "cell_type": "markdown",
   "metadata": {},
   "source": [
    "For my analysis of what neighborhood is the best to live in I chose the metric to be the least amount of overdose deaths."
   ]
  },
  {
   "cell_type": "markdown",
   "metadata": {},
   "source": [
    "---\n",
    "Some basic statistics from the data."
   ]
  },
  {
   "cell_type": "code",
   "execution_count": null,
   "metadata": {},
   "outputs": [],
   "source": [
    "import pandas as pd\n",
    "\n",
    "dose = pd.read_csv(\"overdosedata.tsv\",sep='\\t')\n",
    "\n",
    "casecount = len(dose)\n",
    "\n",
    "aveage = dose['age'].mean()\n",
    "\n",
    "se = dose['sex'].value_counts()\n",
    "\n",
    "counter = 0\n",
    "\n",
    "zipcount = dict()\n",
    "for line in dose:\n",
    "    items = dose['incident_zip']\n",
    "    for item in items:\n",
    "        counter = counter + 1\n",
    "        if item in zipcount:\n",
    "            zipcount[item] += 1\n",
    "        else:\n",
    "            zipcount[item] = 1\n",
    "# error - off by a factor of 19, not sure why :/\n",
    "\n",
    "print('Number of cases:',casecount)\n",
    "print('\\n''Average age of victim:',aveage)\n",
    "print('\\n''Number of male (M) and female (F) victims:')\n",
    "print(se)\n",
    "print('\\n''Number of overdoses by zip code:')\n",
    "print(zipcount)"
   ]
  }
 ],
 "metadata": {
  "kernelspec": {
   "display_name": "Python 3",
   "language": "python",
   "name": "python3"
  },
  "language_info": {
   "codemirror_mode": {
    "name": "ipython",
    "version": 3
   },
   "file_extension": ".py",
   "mimetype": "text/x-python",
   "name": "python",
   "nbconvert_exporter": "python",
   "pygments_lexer": "ipython3",
   "version": "3.8.3"
  }
 },
 "nbformat": 4,
 "nbformat_minor": 4
}
